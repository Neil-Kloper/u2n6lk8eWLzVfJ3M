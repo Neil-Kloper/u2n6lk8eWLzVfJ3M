{
  "nbformat": 4,
  "nbformat_minor": 0,
  "metadata": {
    "colab": {
      "name": "Apziva_eval_problem_Final.ipynb",
      "provenance": [],
      "collapsed_sections": []
    },
    "kernelspec": {
      "display_name": "Python 3",
      "name": "python3"
    }
  },
  "cells": [
    {
      "cell_type": "markdown",
      "metadata": {
        "id": "9BJeGyfTTvlm"
      },
      "source": [
        "# Project: ACME Customer Satisfaction survey\n",
        " \n",
        "The goal of this notebook is to achieve an f1 score of .73 or higher for a model on prediction with this dataset. There is room for discussion on whether or not the intended performance was actually achieved.\n",
        " \n",
        "This notebook assumes the reader a simple understanding of means, standard deviations, linear relationships, and models. Any concept more complex will be explained in the notes.\n",
        "\n",
        "\n",
        "<a id=\"toc\"></a>\n",
        "## Table of contents:\n",
        "1. [EDA](#part-one)\n",
        "2. [Function definitions](#part-two)\n",
        "3. [Cross validation results](#part-three)\n",
        "4. [Single train/test split performance](#part-four)\n",
        "5. [Model interpretations](#part-five)\n",
        "6. [Conclusion](#part-six)"
      ]
    },
    {
      "cell_type": "code",
      "metadata": {
        "id": "8FTXhr-RA22V",
        "outputId": "26402679-47be-4706-fce6-f5820376f4b5",
        "colab": {
          "base_uri": "https://localhost:8080/",
          "height": 224
        }
      },
      "source": [
        "import pandas as pd\n",
        "import numpy as np\n",
        "\n",
        "data = pd.read_csv('/content/drive/My Drive/upziva/ACME-HappinessSurvey2020.csv')\n",
        "# data = data.drop_duplicates()\n",
        "display(data.head())\n",
        "print(data.shape)"
      ],
      "execution_count": 1,
      "outputs": [
        {
          "output_type": "display_data",
          "data": {
            "text/html": [
              "<div>\n",
              "<style scoped>\n",
              "    .dataframe tbody tr th:only-of-type {\n",
              "        vertical-align: middle;\n",
              "    }\n",
              "\n",
              "    .dataframe tbody tr th {\n",
              "        vertical-align: top;\n",
              "    }\n",
              "\n",
              "    .dataframe thead th {\n",
              "        text-align: right;\n",
              "    }\n",
              "</style>\n",
              "<table border=\"1\" class=\"dataframe\">\n",
              "  <thead>\n",
              "    <tr style=\"text-align: right;\">\n",
              "      <th></th>\n",
              "      <th>Y</th>\n",
              "      <th>X1</th>\n",
              "      <th>X2</th>\n",
              "      <th>X3</th>\n",
              "      <th>X4</th>\n",
              "      <th>X5</th>\n",
              "      <th>X6</th>\n",
              "    </tr>\n",
              "  </thead>\n",
              "  <tbody>\n",
              "    <tr>\n",
              "      <th>0</th>\n",
              "      <td>0</td>\n",
              "      <td>3</td>\n",
              "      <td>3</td>\n",
              "      <td>3</td>\n",
              "      <td>4</td>\n",
              "      <td>2</td>\n",
              "      <td>4</td>\n",
              "    </tr>\n",
              "    <tr>\n",
              "      <th>1</th>\n",
              "      <td>0</td>\n",
              "      <td>3</td>\n",
              "      <td>2</td>\n",
              "      <td>3</td>\n",
              "      <td>5</td>\n",
              "      <td>4</td>\n",
              "      <td>3</td>\n",
              "    </tr>\n",
              "    <tr>\n",
              "      <th>2</th>\n",
              "      <td>1</td>\n",
              "      <td>5</td>\n",
              "      <td>3</td>\n",
              "      <td>3</td>\n",
              "      <td>3</td>\n",
              "      <td>3</td>\n",
              "      <td>5</td>\n",
              "    </tr>\n",
              "    <tr>\n",
              "      <th>3</th>\n",
              "      <td>0</td>\n",
              "      <td>5</td>\n",
              "      <td>4</td>\n",
              "      <td>3</td>\n",
              "      <td>3</td>\n",
              "      <td>3</td>\n",
              "      <td>5</td>\n",
              "    </tr>\n",
              "    <tr>\n",
              "      <th>4</th>\n",
              "      <td>0</td>\n",
              "      <td>5</td>\n",
              "      <td>4</td>\n",
              "      <td>3</td>\n",
              "      <td>3</td>\n",
              "      <td>3</td>\n",
              "      <td>5</td>\n",
              "    </tr>\n",
              "  </tbody>\n",
              "</table>\n",
              "</div>"
            ],
            "text/plain": [
              "   Y  X1  X2  X3  X4  X5  X6\n",
              "0  0   3   3   3   4   2   4\n",
              "1  0   3   2   3   5   4   3\n",
              "2  1   5   3   3   3   3   5\n",
              "3  0   5   4   3   3   3   5\n",
              "4  0   5   4   3   3   3   5"
            ]
          },
          "metadata": {
            "tags": []
          }
        },
        {
          "output_type": "stream",
          "text": [
            "(126, 7)\n"
          ],
          "name": "stdout"
        }
      ]
    },
    {
      "cell_type": "markdown",
      "metadata": {
        "id": "1TNAITd8WTji"
      },
      "source": [
        "<a id=\"part-one\"></a>\n",
        "## Part 1: EDA\n",
        "The exploratory data analysis is brief. All I'm looking for is a significant linear relationship (in the heatmap you will notice there are not any) and for any separability in the dataset (the pairplot will show some small amounts). There are only outliers in the X1 and X6 section of the dataset, and based on the range of the data I would not consider them large enough to be worth treating.\n",
        "\n",
        "[Return to Table of Contents](#toc)"
      ]
    },
    {
      "cell_type": "code",
      "metadata": {
        "id": "5bnPiZegH-2F",
        "outputId": "4e110c96-5ebc-48fe-9f9b-a96694653123",
        "colab": {
          "base_uri": "https://localhost:8080/",
          "height": 300
        }
      },
      "source": [
        "data.describe()"
      ],
      "execution_count": 2,
      "outputs": [
        {
          "output_type": "execute_result",
          "data": {
            "text/html": [
              "<div>\n",
              "<style scoped>\n",
              "    .dataframe tbody tr th:only-of-type {\n",
              "        vertical-align: middle;\n",
              "    }\n",
              "\n",
              "    .dataframe tbody tr th {\n",
              "        vertical-align: top;\n",
              "    }\n",
              "\n",
              "    .dataframe thead th {\n",
              "        text-align: right;\n",
              "    }\n",
              "</style>\n",
              "<table border=\"1\" class=\"dataframe\">\n",
              "  <thead>\n",
              "    <tr style=\"text-align: right;\">\n",
              "      <th></th>\n",
              "      <th>Y</th>\n",
              "      <th>X1</th>\n",
              "      <th>X2</th>\n",
              "      <th>X3</th>\n",
              "      <th>X4</th>\n",
              "      <th>X5</th>\n",
              "      <th>X6</th>\n",
              "    </tr>\n",
              "  </thead>\n",
              "  <tbody>\n",
              "    <tr>\n",
              "      <th>count</th>\n",
              "      <td>126.000000</td>\n",
              "      <td>126.000000</td>\n",
              "      <td>126.000000</td>\n",
              "      <td>126.000000</td>\n",
              "      <td>126.000000</td>\n",
              "      <td>126.000000</td>\n",
              "      <td>126.000000</td>\n",
              "    </tr>\n",
              "    <tr>\n",
              "      <th>mean</th>\n",
              "      <td>0.547619</td>\n",
              "      <td>4.333333</td>\n",
              "      <td>2.531746</td>\n",
              "      <td>3.309524</td>\n",
              "      <td>3.746032</td>\n",
              "      <td>3.650794</td>\n",
              "      <td>4.253968</td>\n",
              "    </tr>\n",
              "    <tr>\n",
              "      <th>std</th>\n",
              "      <td>0.499714</td>\n",
              "      <td>0.800000</td>\n",
              "      <td>1.114892</td>\n",
              "      <td>1.023440</td>\n",
              "      <td>0.875776</td>\n",
              "      <td>1.147641</td>\n",
              "      <td>0.809311</td>\n",
              "    </tr>\n",
              "    <tr>\n",
              "      <th>min</th>\n",
              "      <td>0.000000</td>\n",
              "      <td>1.000000</td>\n",
              "      <td>1.000000</td>\n",
              "      <td>1.000000</td>\n",
              "      <td>1.000000</td>\n",
              "      <td>1.000000</td>\n",
              "      <td>1.000000</td>\n",
              "    </tr>\n",
              "    <tr>\n",
              "      <th>25%</th>\n",
              "      <td>0.000000</td>\n",
              "      <td>4.000000</td>\n",
              "      <td>2.000000</td>\n",
              "      <td>3.000000</td>\n",
              "      <td>3.000000</td>\n",
              "      <td>3.000000</td>\n",
              "      <td>4.000000</td>\n",
              "    </tr>\n",
              "    <tr>\n",
              "      <th>50%</th>\n",
              "      <td>1.000000</td>\n",
              "      <td>5.000000</td>\n",
              "      <td>3.000000</td>\n",
              "      <td>3.000000</td>\n",
              "      <td>4.000000</td>\n",
              "      <td>4.000000</td>\n",
              "      <td>4.000000</td>\n",
              "    </tr>\n",
              "    <tr>\n",
              "      <th>75%</th>\n",
              "      <td>1.000000</td>\n",
              "      <td>5.000000</td>\n",
              "      <td>3.000000</td>\n",
              "      <td>4.000000</td>\n",
              "      <td>4.000000</td>\n",
              "      <td>4.000000</td>\n",
              "      <td>5.000000</td>\n",
              "    </tr>\n",
              "    <tr>\n",
              "      <th>max</th>\n",
              "      <td>1.000000</td>\n",
              "      <td>5.000000</td>\n",
              "      <td>5.000000</td>\n",
              "      <td>5.000000</td>\n",
              "      <td>5.000000</td>\n",
              "      <td>5.000000</td>\n",
              "      <td>5.000000</td>\n",
              "    </tr>\n",
              "  </tbody>\n",
              "</table>\n",
              "</div>"
            ],
            "text/plain": [
              "                Y          X1          X2  ...          X4          X5          X6\n",
              "count  126.000000  126.000000  126.000000  ...  126.000000  126.000000  126.000000\n",
              "mean     0.547619    4.333333    2.531746  ...    3.746032    3.650794    4.253968\n",
              "std      0.499714    0.800000    1.114892  ...    0.875776    1.147641    0.809311\n",
              "min      0.000000    1.000000    1.000000  ...    1.000000    1.000000    1.000000\n",
              "25%      0.000000    4.000000    2.000000  ...    3.000000    3.000000    4.000000\n",
              "50%      1.000000    5.000000    3.000000  ...    4.000000    4.000000    4.000000\n",
              "75%      1.000000    5.000000    3.000000  ...    4.000000    4.000000    5.000000\n",
              "max      1.000000    5.000000    5.000000  ...    5.000000    5.000000    5.000000\n",
              "\n",
              "[8 rows x 7 columns]"
            ]
          },
          "metadata": {
            "tags": []
          },
          "execution_count": 2
        }
      ]
    },
    {
      "cell_type": "code",
      "metadata": {
        "id": "ZkpkrIyrS5sK",
        "outputId": "72dc1241-41c2-4405-977b-89a4dbdc60b3",
        "colab": {
          "base_uri": "https://localhost:8080/",
          "height": 1000
        }
      },
      "source": [
        "import seaborn as sns\n",
        "import matplotlib.pyplot as plt\n",
        "\n",
        "sns.pairplot(data, hue='Y', corner=True)\n",
        "\n",
        "####\n",
        "\n",
        "plt.figure(figsize=(10,10))\n",
        "sns.heatmap(data.corr(), annot=True);"
      ],
      "execution_count": 3,
      "outputs": [
        {
          "output_type": "display_data",
          "data": {
            "image/png": "[encoded data removed]",
            "text/plain": [
              "<Figure size 1122.38x1080 with 27 Axes>"
            ]
          },
          "metadata": {
            "tags": [],
            "needs_background": "light"
          }
        },
        {
          "output_type": "display_data",
          "data": {
            "image/png": "[encoded data removed]",
            "text/plain": [
              "<Figure size 720x720 with 2 Axes>"
            ]
          },
          "metadata": {
            "tags": [],
            "needs_background": "light"
          }
        }
      ]
    },
    {
      "cell_type": "markdown",
      "metadata": {
        "id": "EXupzRcJX28w"
      },
      "source": [
        "<a id=\"part-two\"></a>\n",
        " \n",
        "## Part 2: Preprocessing and Function definitions\n",
        " \n",
        "Below I split the data and create three functions. There is also commented out code with various preprocessing methods. My initial hypothesis was that no amount of preprocessing was needed (none of the outliers are extreme and there is a very specific range to the data). After testing with the methods below (and also removing duplicates) my hypothesis has not been disproven.\n",
        " \n",
        "The `model_test function` trains a model on a single split of the dataset and displays the resulting f1 score for both the training data and the test data (optionally it will also produce a confusion matrix).\n",
        " \n",
        "The `kfold_eval_model` function performs a cross fold evaluation on *n* number of splits of the data and stores the relevant values to a dataframe. The four values are the average f1 score across all splits for training data, again for test data, the standard deviation for the scores in the training performance and also for the test performance as well.\n",
        " \n",
        "The `permutation_importance` function is a bit more special. This function I originally wrote for the ODSC 2020 Data Science Hackathon, which I got second place in (see https://github.com/Neil-Kloper/ODSC-Competition/blob/master/ODSC_SKLearn.ipynb for the full notebook). Essentially this function takes a model and a dataset, it will iterate through each column in the dataset, randomizing the contents, and then training the model on it and seeing the effect on performance. Due to the random nature of this method, the change in performance won't always perfectly match the amount of signal a particular feature is adding (so you have a range of uncertainty). The size of the dataset is inversely proportional to the range of uncertainty this method has. So the results of this function should be taken with a grain of salt in this context.\n",
        "\n",
        "\n",
        "[Return to Table of Contents](#toc)"
      ]
    },
    {
      "cell_type": "code",
      "metadata": {
        "id": "me-A0JinBM5K"
      },
      "source": [
        "from sklearn.model_selection import train_test_split\n",
        "from sklearn.preprocessing import PolynomialFeatures\n",
        "from sklearn.preprocessing import StandardScaler\n",
        "from sklearn.preprocessing import RobustScaler\n",
        "from itertools import combinations\n",
        "\n",
        "\n",
        "# rscaler = RobustScaler()\n",
        "# scaler = StandardScaler()\n",
        "# poly = PolynomialFeatures()\n",
        "\n",
        "\n",
        "### Additive feature generation\n",
        "# cols = data.drop('Y', axis=1).columns\n",
        "# for v in combinations(cols, 2):\n",
        "#   data[str(v[0]+v[1])] = data[v[0]] + data[v[1]]\n",
        "X = np.array(data.drop('Y', axis=1))\n",
        "# X = rscaler.fit_transform(X)\n",
        "# X = scaler.fit_transform(X)\n",
        "# X = poly.fit_transform(X)\n",
        "y = data['Y']\n",
        "\n",
        "x_train, x_test, y_train, y_test = train_test_split(X, y, test_size=.3, random_state=42)"
      ],
      "execution_count": 4,
      "outputs": []
    },
    {
      "cell_type": "code",
      "metadata": {
        "id": "kOc8S-l_5M3e"
      },
      "source": [
        "# from itertools import combinations\n",
        "# data_2 = data.copy()\n",
        "# cols = data.drop('Y', axis=1).columns\n",
        "# _ = [1,2,3]\n",
        "\n",
        "# for v in combinations(cols, 2):\n",
        "#   data_2[str(v[0]+v[1])] = data_2[v[0]] + data_2[v[1]]\n",
        "# data_2.head()"
      ],
      "execution_count": 5,
      "outputs": []
    },
    {
      "cell_type": "code",
      "metadata": {
        "id": "qFwExPWgUYc9"
      },
      "source": [
        "# pd.DataFrame(X).describe()"
      ],
      "execution_count": 6,
      "outputs": []
    },
    {
      "cell_type": "code",
      "metadata": {
        "id": "NSx_2T5qDB05"
      },
      "source": [
        "from sklearn import metrics\n",
        "\n",
        "def model_test(model, plot=False):\n",
        "  \"\"\"simple function to test out a model for this problem\n",
        "  statement in a single line of code\"\"\"\n",
        "  model.fit(x_train, y_train)\n",
        "  score_1 = metrics.f1_score((model.predict(x_train)).round(), y_train)\n",
        "  score_2 = metrics.f1_score((model.predict(x_test)).round(), y_test)\n",
        "  print('Train F1 score for', model.__class__.__name__, 'is:', score_1)\n",
        "  print('Test F1 score for', model.__class__.__name__, 'is:', score_2)\n",
        "  if plot:\n",
        "    metrics.plot_confusion_matrix(model, x_test, y_test)\n",
        "    metrics.plot_confusion_matrix(model, x_train, y_train)"
      ],
      "execution_count": 7,
      "outputs": []
    },
    {
      "cell_type": "code",
      "metadata": {
        "id": "ZGOvCRN_Wt-D"
      },
      "source": [
        "from sklearn.model_selection import KFold\n",
        "\n",
        "kf = KFold(n_splits=5)\n",
        "\n",
        "cols = ['Model', 'Mean train score', 'Train standard deviation', 'Mean test score', 'Test standard deviation']\n",
        "model_performance = pd.DataFrame(columns=cols)\n",
        "\n",
        "def kfold_eval_model(model, update_df=True):\n",
        "  \"\"\"simple function to test out a model for this problem\n",
        "  statement in a single line of code,\n",
        "  prints out the f1 score for training and testing data\n",
        "  based on results from an n-fold cross validation\n",
        "  saves results to a dataframe.\n",
        "  will round predictions for regression to use for f1 evaluation.\n",
        "  Takes an sklearn model as the first argument,\n",
        "  second argument determines if the performance dataframe is updated\"\"\"\n",
        "  global model_performance\n",
        "  train_f1 = np.array([], dtype='float')\n",
        "  test_f1 = np.array([], dtype='float')\n",
        "  for train_index, test_index in kf.split(X):\n",
        "    model.fit(X[train_index], y[train_index])\n",
        "    score_1 = metrics.f1_score(y[train_index], abs((model.predict(X[train_index])).round()))\n",
        "    score_2 =  metrics.f1_score(y[test_index], abs((model.predict(X[test_index])).round()))\n",
        "    train_f1 = np.append(train_f1, score_1)\n",
        "    test_f1 = np.append(test_f1, score_2)\n",
        "  print(model.__class__.__name__)\n",
        "  train_stats = (train_f1.mean(), train_f1.std())\n",
        "  test_stats = (test_f1.mean(), test_f1.std())\n",
        "  print('Average train f1 score across ', kf.get_n_splits(X),' folds:', train_stats[0], 'with a standard diviation of',train_stats[1])    \n",
        "  print('Average test f1 score across ', kf.get_n_splits(X),' folds:', test_stats[0], 'with a standard diviation of', test_stats[1])\n",
        "  if update_df:\n",
        "    s = np.array([[model.__class__.__name__, train_stats[0],  train_stats[1], test_stats[0],  test_stats[1]]])\n",
        "    s = pd.DataFrame(s)\n",
        "    s.columns = cols\n",
        "    model_performance = model_performance.append(s)"
      ],
      "execution_count": 8,
      "outputs": []
    },
    {
      "cell_type": "code",
      "metadata": {
        "id": "itaXP25qQJ6y"
      },
      "source": [
        "model_aucroc_performance = pd.DataFrame(columns=cols)\n",
        "\n",
        "def roc_it(model, update_df=True):\n",
        "  \"\"\"Same as kfold_eval_model except it stores \n",
        "  the aucroc scores\"\"\"\n",
        "  global model_aucroc_performance\n",
        "  train_f1 = np.array([], dtype='float')\n",
        "  test_f1 = np.array([], dtype='float')\n",
        "  for train_index, test_index in kf.split(X):\n",
        "    model.fit(X[train_index], y[train_index])\n",
        "    try:\n",
        "      score_1 = metrics.roc_auc_score(y[train_index], model.predict_proba(X[train_index])[:,1])\n",
        "      score_2 =  metrics.roc_auc_score(y[test_index], model.predict_proba(X[test_index])[:,1])\n",
        "    except:\n",
        "      score_1 = metrics.roc_auc_score(y[train_index], model.predict(X[train_index]))\n",
        "      score_2 =  metrics.roc_auc_score(y[test_index], model.predict(X[test_index]))\n",
        "    train_f1 = np.append(train_f1, score_1)\n",
        "    test_f1 = np.append(test_f1, score_2)\n",
        "  print(model.__class__.__name__)\n",
        "  train_stats = (train_f1.mean(), train_f1.std())\n",
        "  test_stats = (test_f1.mean(), test_f1.std())\n",
        "  print('Average train roc auc score across ', kf.get_n_splits(X),' folds:', train_stats[0], 'with a standard diviation of',train_stats[1])    \n",
        "  print('Average test roc auc score across ', kf.get_n_splits(X),' folds:', test_stats[0], 'with a standard diviation of', test_stats[1])\n",
        "  if update_df:\n",
        "    s = np.array([[model.__class__.__name__, train_stats[0],  train_stats[1], test_stats[0],  test_stats[1]]])\n",
        "    s = pd.DataFrame(s)\n",
        "    s.columns = cols\n",
        "    model_aucroc_performance = model_aucroc_performance.append(s)"
      ],
      "execution_count": 9,
      "outputs": []
    },
    {
      "cell_type": "code",
      "metadata": {
        "id": "r8UlxzuKBEcg"
      },
      "source": [
        "## this function is an updated version of the code from: https://github.com/Neil-Kloper/ODSC-Competition/blob/master/ODSC_SKLearn.ipynb\n",
        "\n",
        "from sklearn.metrics import roc_auc_score\n",
        "from sklearn.ensemble import RandomForestRegressor\n",
        "rfr= RandomForestRegressor()\n",
        "\n",
        "\n",
        "def permutation_importance(df, target_cols, perc=1., model=rfr, rs=42, metric=roc_auc_score, print_status=False):\n",
        "  \"\"\"This function uses permutation feature importance to rank features by relevance\n",
        "  Only dependencies are SKLearn\"\"\"\n",
        "  df = df.loc[:int(len(df)*perc)]\n",
        "  cols = df.columns\n",
        "  X_cols = [x for x in cols if (x not in target_cols)]\n",
        "  dict_out = {}\n",
        "  \n",
        "  X = df[X_cols]\n",
        "  y = df[target_cols]\n",
        "  train_X, val_X, train_y, val_y = train_test_split(X, y, test_size=0.3, random_state=rs)\n",
        "  model.fit(train_X, train_y)\n",
        "  try:\n",
        "    ls_preds = model.predict_proba(val_X)[:,1]\n",
        "  except:\n",
        "    ls_preds = model.predict(val_X)\n",
        "  try:\n",
        "    baseline = metric(val_y, ls_preds)\n",
        "  except:\n",
        "    baseline = metric(val_y, ls_preds.round())\n",
        "  dict_out['baseline'] = baseline\n",
        "  if print_status:\n",
        "    print('Baseline:', baseline)\n",
        "\n",
        "  counter = 1\n",
        "  for col in X_cols:\n",
        "    t_df = df.copy()\n",
        "    t_df[col] = np.random.permutation(t_df[col].values)\n",
        "    \n",
        "    X = t_df[X_cols]\n",
        "    y = t_df[target_cols]\n",
        "    train_X, val_X, train_y, val_y = train_test_split(X, y, test_size=0.2, random_state=42)\n",
        "\n",
        "    model.fit(train_X, train_y)\n",
        "    try:\n",
        "      ls_preds = model.predict_proba(val_X)[:,1]\n",
        "    except:\n",
        "      ls_preds = model.predict(val_X)\n",
        "    try:\n",
        "      _aucroc = baseline - metric(val_y, ls_preds) \n",
        "    except:\n",
        "      _aucroc = baseline - metric(val_y, ls_preds.round())\n",
        "    dict_out[col] = _aucroc\n",
        "    if print_status:\n",
        "      print('column', counter, 'of', len(X_cols),',', col, 'has a score of', round(_aucroc, 4))\n",
        "    counter+=1\n",
        "  return pd.DataFrame(pd.Series(dict_out).sort_values(ascending=False))\n"
      ],
      "execution_count": 10,
      "outputs": []
    },
    {
      "cell_type": "markdown",
      "metadata": {
        "id": "QinOYP9-cXdB"
      },
      "source": [
        "## Part 2 and a half: model testing\n",
        "Below I have several models that were tested, some performed well, others not so. This section can be safely skipped with nothing missed (other than hyperparameters). Not included in this notebook is the grid-search used to find the optimal hyperparameters.\n"
      ]
    },
    {
      "cell_type": "code",
      "metadata": {
        "id": "sXgP6u3hJwQ1",
        "outputId": "3745d0a3-a5ce-49c5-e1d9-4890073d3b51",
        "colab": {
          "base_uri": "https://localhost:8080/",
          "height": 121
        }
      },
      "source": [
        "from sklearn.linear_model import Lasso\n",
        "las = Lasso()\n",
        "kfold_eval_model(las)\n",
        "las = Lasso()\n",
        "roc_it(las)"
      ],
      "execution_count": 11,
      "outputs": [
        {
          "output_type": "stream",
          "text": [
            "Lasso\n",
            "Average train f1 score across  5  folds: 0.7072023024721226 with a standard diviation of 0.027219721777343178\n",
            "Average test f1 score across  5  folds: 0.6997160376173422 with a standard diviation of 0.1120296299070614\n",
            "Lasso\n",
            "Average train roc auc score across  5  folds: 0.5 with a standard diviation of 0.0\n",
            "Average test roc auc score across  5  folds: 0.5 with a standard diviation of 0.0\n"
          ],
          "name": "stdout"
        }
      ]
    },
    {
      "cell_type": "code",
      "metadata": {
        "id": "dPWzV16mEM2t",
        "outputId": "f4c1d8df-c215-4f7a-fede-37b1ca27ded4",
        "colab": {
          "base_uri": "https://localhost:8080/",
          "height": 173
        }
      },
      "source": [
        "from sklearn.ensemble import RandomForestClassifier\n",
        "\n",
        "rfc = RandomForestClassifier(max_depth=12, random_state=42)\n",
        "model_test(rfc)\n",
        "print('')\n",
        "kfold_eval_model(rfc)\n",
        "rfc = RandomForestClassifier(max_depth=12, random_state=42)\n",
        "roc_it(rfc)"
      ],
      "execution_count": 12,
      "outputs": [
        {
          "output_type": "stream",
          "text": [
            "Train F1 score for RandomForestClassifier is: 0.9514563106796117\n",
            "Test F1 score for RandomForestClassifier is: 0.6511627906976745\n",
            "\n",
            "RandomForestClassifier\n",
            "Average train f1 score across  5  folds: 0.9575695539330754 with a standard diviation of 0.008363776360891674\n",
            "Average test f1 score across  5  folds: 0.5754071249065686 with a standard diviation of 0.043015320341424794\n",
            "RandomForestClassifier\n",
            "Average train roc auc score across  5  folds: 0.9930358395478722 with a standard diviation of 0.002175624531374759\n",
            "Average test roc auc score across  5  folds: 0.5492752345693523 with a standard diviation of 0.07518989867838913\n"
          ],
          "name": "stdout"
        }
      ]
    },
    {
      "cell_type": "code",
      "metadata": {
        "id": "AFFxj_pwB4Hu",
        "outputId": "9b6b940d-0da8-4baa-acf9-c0aed844c8fa",
        "colab": {
          "base_uri": "https://localhost:8080/",
          "height": 34
        }
      },
      "source": [
        "#this cell is a sanitiy check to make sure that I'm not getting wildly off results from my functions\n",
        "\n",
        "from sklearn.ensemble import RandomForestClassifier\n",
        "\n",
        "rfr = RandomForestClassifier(random_state=42)\n",
        "rfr.fit(x_train, y_train)\n",
        "preds = rfr.predict(x_test)\n",
        "metrics.f1_score(preds, y_test)\n",
        "metrics.accuracy_score(preds, y_test)"
      ],
      "execution_count": 13,
      "outputs": [
        {
          "output_type": "execute_result",
          "data": {
            "text/plain": [
              "0.6052631578947368"
            ]
          },
          "metadata": {
            "tags": []
          },
          "execution_count": 13
        }
      ]
    },
    {
      "cell_type": "code",
      "metadata": {
        "id": "af0dduLuCgay",
        "outputId": "12494e78-1546-4220-f9ae-e0bba3f7812b",
        "colab": {
          "base_uri": "https://localhost:8080/",
          "height": 121
        }
      },
      "source": [
        "from sklearn.ensemble import GradientBoostingClassifier\n",
        "\n",
        "gbc = GradientBoostingClassifier()\n",
        "# model_test(gbc)\n",
        "kfold_eval_model(gbc)\n",
        "\n",
        "gbc = GradientBoostingClassifier()\n",
        "roc_it(gbc)"
      ],
      "execution_count": 14,
      "outputs": [
        {
          "output_type": "stream",
          "text": [
            "GradientBoostingClassifier\n",
            "Average train f1 score across  5  folds: 0.9221257650140059 with a standard diviation of 0.015850941848178896\n",
            "Average test f1 score across  5  folds: 0.6361327561327561 with a standard diviation of 0.048414846738268486\n",
            "GradientBoostingClassifier\n",
            "Average train roc auc score across  5  folds: 0.9744594552847575 with a standard diviation of 0.010228692067009857\n",
            "Average test roc auc score across  5  folds: 0.5659119475295945 with a standard diviation of 0.12478124812687111\n"
          ],
          "name": "stdout"
        }
      ]
    },
    {
      "cell_type": "code",
      "metadata": {
        "id": "qAbSBZYIFcKf",
        "outputId": "5de50fb0-6f98-49ed-fc77-b7e29d918577",
        "colab": {
          "base_uri": "https://localhost:8080/",
          "height": 121
        }
      },
      "source": [
        "from sklearn.linear_model import LogisticRegression\n",
        "\n",
        "lr = LogisticRegression(C=0.6, penalty= 'l1', solver= 'liblinear', tol= 0.0005)\n",
        "# model_test(lr)\n",
        "kfold_eval_model(lr)\n",
        "lr = LogisticRegression(C=0.6, penalty= 'l1', solver= 'liblinear', tol= 0.0005)\n",
        "roc_it(lr)"
      ],
      "execution_count": 15,
      "outputs": [
        {
          "output_type": "stream",
          "text": [
            "LogisticRegression\n",
            "Average train f1 score across  5  folds: 0.7100503691291509 with a standard diviation of 0.04207986000236754\n",
            "Average test f1 score across  5  folds: 0.6308839342188489 with a standard diviation of 0.083633310645831\n",
            "LogisticRegression\n",
            "Average train roc auc score across  5  folds: 0.6669227170636359 with a standard diviation of 0.04712916225236616\n",
            "Average test roc auc score across  5  folds: 0.5209628198598788 with a standard diviation of 0.12827400973177425\n"
          ],
          "name": "stdout"
        }
      ]
    },
    {
      "cell_type": "code",
      "metadata": {
        "id": "K5EjSnH8Fp7r",
        "outputId": "92183030-3b82-4631-81ba-6f842d129bd6",
        "colab": {
          "base_uri": "https://localhost:8080/",
          "height": 121
        }
      },
      "source": [
        "from sklearn.ensemble import BaggingClassifier\n",
        "\n",
        "bc = BaggingClassifier()\n",
        "kfold_eval_model(bc)\n",
        "bc = BaggingClassifier()\n",
        "roc_it(bc)"
      ],
      "execution_count": 16,
      "outputs": [
        {
          "output_type": "stream",
          "text": [
            "BaggingClassifier\n",
            "Average train f1 score across  5  folds: 0.9296667602937061 with a standard diviation of 0.011327347476959326\n",
            "Average test f1 score across  5  folds: 0.5290749863163656 with a standard diviation of 0.03936542640121787\n",
            "BaggingClassifier\n",
            "Average train roc auc score across  5  folds: 0.9817490596418729 with a standard diviation of 0.008554231471448289\n",
            "Average test roc auc score across  5  folds: 0.5032032918062329 with a standard diviation of 0.0797747945802279\n"
          ],
          "name": "stdout"
        }
      ]
    },
    {
      "cell_type": "code",
      "metadata": {
        "id": "gX4x6M6THwKd",
        "outputId": "5fe85f3f-f6f9-420d-8a77-19b423ed840f",
        "colab": {
          "base_uri": "https://localhost:8080/",
          "height": 121
        }
      },
      "source": [
        "from sklearn.neural_network import MLPClassifier\n",
        "\n",
        "mlpc = MLPClassifier(max_iter=1000, batch_size=20,  random_state=42)\n",
        "kfold_eval_model(mlpc)\n",
        "\n",
        "mlpc = MLPClassifier(max_iter=1000, batch_size=20,  random_state=42)\n",
        "roc_it(mlpc)"
      ],
      "execution_count": 17,
      "outputs": [
        {
          "output_type": "stream",
          "text": [
            "MLPClassifier\n",
            "Average train f1 score across  5  folds: 0.7229770229770229 with a standard diviation of 0.07483239911649442\n",
            "Average test f1 score across  5  folds: 0.5447044458809165 with a standard diviation of 0.2345193738183944\n",
            "MLPClassifier\n",
            "Average train roc auc score across  5  folds: 0.7432559941372956 with a standard diviation of 0.05802948259295682\n",
            "Average test roc auc score across  5  folds: 0.5387142269495211 with a standard diviation of 0.15557705072973313\n"
          ],
          "name": "stdout"
        }
      ]
    },
    {
      "cell_type": "code",
      "metadata": {
        "id": "9sXzZ36CLuD2",
        "outputId": "8b7c8b74-5de5-487f-e5d2-2b56cc75ceb9",
        "colab": {
          "base_uri": "https://localhost:8080/",
          "height": 121
        }
      },
      "source": [
        "from sklearn.svm import NuSVC\n",
        "\n",
        "svmc = NuSVC(max_iter=50000)\n",
        "kfold_eval_model(svmc)\n",
        "\n",
        "svmc = NuSVC(max_iter=50000)\n",
        "roc_it(svmc)"
      ],
      "execution_count": 18,
      "outputs": [
        {
          "output_type": "stream",
          "text": [
            "NuSVC\n",
            "Average train f1 score across  5  folds: 0.8827915893658581 with a standard diviation of 0.010065125408085285\n",
            "Average test f1 score across  5  folds: 0.5196403596403596 with a standard diviation of 0.09452820901624054\n",
            "NuSVC\n",
            "Average train roc auc score across  5  folds: 0.8627372484101639 with a standard diviation of 0.011872573392075241\n",
            "Average test roc auc score across  5  folds: 0.470139256168668 with a standard diviation of 0.0875657915459412\n"
          ],
          "name": "stdout"
        }
      ]
    },
    {
      "cell_type": "code",
      "metadata": {
        "id": "F-dVugHPOhBF",
        "outputId": "efcfd23a-558d-4470-da75-98b7bbcddce0",
        "colab": {
          "base_uri": "https://localhost:8080/",
          "height": 121
        }
      },
      "source": [
        "from sklearn.ensemble import ExtraTreesClassifier\n",
        "\n",
        "etc = ExtraTreesClassifier(max_depth = 2, min_samples_split= 6, n_estimators= 25)\n",
        "kfold_eval_model(etc)\n",
        "\n",
        "etc = ExtraTreesClassifier(max_depth = 2, min_samples_split= 6, n_estimators= 25)\n",
        "roc_it(etc)"
      ],
      "execution_count": 19,
      "outputs": [
        {
          "output_type": "stream",
          "text": [
            "ExtraTreesClassifier\n",
            "Average train f1 score across  5  folds: 0.7368248666530433 with a standard diviation of 0.03418037624550693\n",
            "Average test f1 score across  5  folds: 0.5964162561576355 with a standard diviation of 0.0833135715525022\n",
            "ExtraTreesClassifier\n",
            "Average train roc auc score across  5  folds: 0.7513063415619455 with a standard diviation of 0.03402992615635292\n",
            "Average test roc auc score across  5  folds: 0.6179807120983591 with a standard diviation of 0.15132717012869032\n"
          ],
          "name": "stdout"
        }
      ]
    },
    {
      "cell_type": "code",
      "metadata": {
        "id": "0ZiSWtNTPTSt",
        "outputId": "5305c94e-4676-4e02-99ea-2ae1a00187dd",
        "colab": {
          "base_uri": "https://localhost:8080/",
          "height": 121
        }
      },
      "source": [
        "from sklearn.tree import DecisionTreeClassifier\n",
        "\n",
        "dtc = DecisionTreeClassifier(max_depth=7)\n",
        "kfold_eval_model(dtc)\n",
        "\n",
        "dtc = DecisionTreeClassifier(max_depth=7)\n",
        "roc_it(dtc)"
      ],
      "execution_count": 20,
      "outputs": [
        {
          "output_type": "stream",
          "text": [
            "DecisionTreeClassifier\n",
            "Average train f1 score across  5  folds: 0.8835630592077232 with a standard diviation of 0.0179391916201561\n",
            "Average test f1 score across  5  folds: 0.5764367816091955 with a standard diviation of 0.11248678061414254\n",
            "DecisionTreeClassifier\n",
            "Average train roc auc score across  5  folds: 0.9558905961666768 with a standard diviation of 0.008471006833070322\n",
            "Average test roc auc score across  5  folds: 0.5721231791084732 with a standard diviation of 0.10031712526180447\n"
          ],
          "name": "stdout"
        }
      ]
    },
    {
      "cell_type": "code",
      "metadata": {
        "id": "i-ELfZSqPbmc",
        "outputId": "892ea807-1ba0-4f3a-d389-f2b396d2a6c9",
        "colab": {
          "base_uri": "https://localhost:8080/",
          "height": 121
        }
      },
      "source": [
        "from sklearn.gaussian_process import GaussianProcessClassifier\n",
        "\n",
        "gpc = GaussianProcessClassifier()\n",
        "kfold_eval_model(gpc)\n",
        "\n",
        "gpc = GaussianProcessClassifier()\n",
        "roc_it(gpc)"
      ],
      "execution_count": 21,
      "outputs": [
        {
          "output_type": "stream",
          "text": [
            "GaussianProcessClassifier\n",
            "Average train f1 score across  5  folds: 0.9063566362754246 with a standard diviation of 0.01504519504221743\n",
            "Average test f1 score across  5  folds: 0.5066235210840327 with a standard diviation of 0.08947009814638657\n",
            "GaussianProcessClassifier\n",
            "Average train roc auc score across  5  folds: 0.9465885109357337 with a standard diviation of 0.013712732807875787\n",
            "Average test roc auc score across  5  folds: 0.44947389212095096 with a standard diviation of 0.12726057650561276\n"
          ],
          "name": "stdout"
        }
      ]
    },
    {
      "cell_type": "code",
      "metadata": {
        "id": "p6m-VswnQfXM",
        "outputId": "3ec56ac8-19a1-4c41-b619-b8ac1e1f7260",
        "colab": {
          "base_uri": "https://localhost:8080/",
          "height": 121
        }
      },
      "source": [
        "from sklearn.naive_bayes import GaussianNB\n",
        "\n",
        "gnb = GaussianNB()\n",
        "kfold_eval_model(gnb)\n",
        "\n",
        "gnb = GaussianNB()\n",
        "roc_it(gnb)"
      ],
      "execution_count": 22,
      "outputs": [
        {
          "output_type": "stream",
          "text": [
            "GaussianNB\n",
            "Average train f1 score across  5  folds: 0.6431413645982158 with a standard diviation of 0.05542968031086681\n",
            "Average test f1 score across  5  folds: 0.6266339436528535 with a standard diviation of 0.13161899107690309\n",
            "GaussianNB\n",
            "Average train roc auc score across  5  folds: 0.6755720908649914 with a standard diviation of 0.057625754163082375\n",
            "Average test roc auc score across  5  folds: 0.6182684962096727 with a standard diviation of 0.19431380636948567\n"
          ],
          "name": "stdout"
        }
      ]
    },
    {
      "cell_type": "code",
      "metadata": {
        "id": "-X5y5DxORRPn",
        "outputId": "694234e0-949c-44a9-d136-5d9a7bf6833e",
        "colab": {
          "base_uri": "https://localhost:8080/",
          "height": 121
        }
      },
      "source": [
        "from sklearn.naive_bayes import CategoricalNB\n",
        "\n",
        "cnb = CategoricalNB()\n",
        "kfold_eval_model(cnb)\n",
        "\n",
        "cnb = CategoricalNB()\n",
        "roc_it(cnb)"
      ],
      "execution_count": 23,
      "outputs": [
        {
          "output_type": "stream",
          "text": [
            "CategoricalNB\n",
            "Average train f1 score across  5  folds: 0.703598184364286 with a standard diviation of 0.02462385833163432\n",
            "Average test f1 score across  5  folds: 0.6220042756399577 with a standard diviation of 0.07390771879656478\n",
            "CategoricalNB\n",
            "Average train roc auc score across  5  folds: 0.7441649515739663 with a standard diviation of 0.02142571907594222\n",
            "Average test roc auc score across  5  folds: 0.625404252610135 with a standard diviation of 0.12613942716946508\n"
          ],
          "name": "stdout"
        }
      ]
    },
    {
      "cell_type": "code",
      "metadata": {
        "id": "hA1PdMoORdpT",
        "outputId": "cfb6687b-2cfc-4365-f0f3-a67bf8ada00c",
        "colab": {
          "base_uri": "https://localhost:8080/",
          "height": 121
        }
      },
      "source": [
        "from sklearn.neighbors import KNeighborsClassifier\n",
        "\n",
        "knn = KNeighborsClassifier(n_neighbors=7)\n",
        "kfold_eval_model(knn)\n",
        "\n",
        "knn = KNeighborsClassifier(n_neighbors=7)\n",
        "roc_it(knn)"
      ],
      "execution_count": 24,
      "outputs": [
        {
          "output_type": "stream",
          "text": [
            "KNeighborsClassifier\n",
            "Average train f1 score across  5  folds: 0.7142374574941052 with a standard diviation of 0.045889042972027554\n",
            "Average test f1 score across  5  folds: 0.533117193439774 with a standard diviation of 0.1101412808597095\n",
            "KNeighborsClassifier\n",
            "Average train roc auc score across  5  folds: 0.7473340936662767 with a standard diviation of 0.056269154598309425\n",
            "Average test roc auc score across  5  folds: 0.4864143209731445 with a standard diviation of 0.12625870561211838\n"
          ],
          "name": "stdout"
        }
      ]
    },
    {
      "cell_type": "code",
      "metadata": {
        "id": "2IXRaKAXC0NW",
        "outputId": "43410ffe-932e-4fa1-a327-76043e7a752a",
        "colab": {
          "base_uri": "https://localhost:8080/",
          "height": 121
        }
      },
      "source": [
        "from sklearn.linear_model import RidgeClassifier\n",
        "rc = RidgeClassifier()\n",
        "kfold_eval_model(rc)\n",
        "  # model_test(rc)\n",
        "\n",
        "rc = RidgeClassifier()\n",
        "roc_it(rc)"
      ],
      "execution_count": 25,
      "outputs": [
        {
          "output_type": "stream",
          "text": [
            "RidgeClassifier\n",
            "Average train f1 score across  5  folds: 0.6816096246752097 with a standard diviation of 0.0479790142241699\n",
            "Average test f1 score across  5  folds: 0.6052651093807935 with a standard diviation of 0.12384924452624525\n",
            "RidgeClassifier\n",
            "Average train roc auc score across  5  folds: 0.6062945748434908 with a standard diviation of 0.05471803361765047\n",
            "Average test roc auc score across  5  folds: 0.5585485592838534 with a standard diviation of 0.13984965252196627\n"
          ],
          "name": "stdout"
        }
      ]
    },
    {
      "cell_type": "code",
      "metadata": {
        "id": "2epk5MtNBaHJ",
        "outputId": "589a781b-350d-49c3-a6d4-68398abe6090",
        "colab": {
          "base_uri": "https://localhost:8080/",
          "height": 121
        }
      },
      "source": [
        "from sklearn.linear_model import BayesianRidge\n",
        "\n",
        "brr = BayesianRidge()\n",
        "\n",
        "kfold_eval_model(brr)\n",
        "# model_test(brr)\n",
        "brr = BayesianRidge()\n",
        "roc_it(brr)"
      ],
      "execution_count": 26,
      "outputs": [
        {
          "output_type": "stream",
          "text": [
            "BayesianRidge\n",
            "Average train f1 score across  5  folds: 0.7008023159636064 with a standard diviation of 0.026967117648673253\n",
            "Average test f1 score across  5  folds: 0.6246090579794695 with a standard diviation of 0.08094762967690829\n",
            "BayesianRidge\n",
            "Average train roc auc score across  5  folds: 0.6863706913728984 with a standard diviation of 0.05529805532168222\n",
            "Average test roc auc score across  5  folds: 0.6244959289076937 with a standard diviation of 0.18427068330068205\n"
          ],
          "name": "stdout"
        }
      ]
    },
    {
      "cell_type": "code",
      "metadata": {
        "id": "EXJbGWRjYSxC",
        "outputId": "289725ba-5796-48a8-a83c-9a1a594d8c95",
        "colab": {
          "base_uri": "https://localhost:8080/",
          "height": 121
        }
      },
      "source": [
        "from sklearn.linear_model import ARDRegression\n",
        "ardr = ARDRegression()\n",
        "kfold_eval_model(ardr)\n",
        "ardr = ARDRegression()\n",
        "roc_it(ardr)"
      ],
      "execution_count": 27,
      "outputs": [
        {
          "output_type": "stream",
          "text": [
            "ARDRegression\n",
            "Average train f1 score across  5  folds: 0.6953724114379852 with a standard diviation of 0.03353357209116576\n",
            "Average test f1 score across  5  folds: 0.6293035835023664 with a standard diviation of 0.1167513531214658\n",
            "ARDRegression\n",
            "Average train roc auc score across  5  folds: 0.6950156304631433 with a standard diviation of 0.04699739248722875\n",
            "Average test roc auc score across  5  folds: 0.611437663643546 with a standard diviation of 0.17917500091642732\n"
          ],
          "name": "stdout"
        }
      ]
    },
    {
      "cell_type": "code",
      "metadata": {
        "id": "9t-ZNlH1Yn1q",
        "outputId": "008530fb-81f1-4a37-a06d-bd5c410763b9",
        "colab": {
          "base_uri": "https://localhost:8080/",
          "height": 121
        }
      },
      "source": [
        "from sklearn.naive_bayes import ComplementNB\n",
        "cnb = ComplementNB()\n",
        "kfold_eval_model(cnb)\n",
        "cnb = ComplementNB()\n",
        "roc_it(cnb)"
      ],
      "execution_count": 28,
      "outputs": [
        {
          "output_type": "stream",
          "text": [
            "ComplementNB\n",
            "Average train f1 score across  5  folds: 0.595263745004267 with a standard diviation of 0.03469951695175468\n",
            "Average test f1 score across  5  folds: 0.5266756232273473 with a standard diviation of 0.11783309386546004\n",
            "ComplementNB\n",
            "Average train roc auc score across  5  folds: 0.6164870050736065 with a standard diviation of 0.020428729181354303\n",
            "Average test roc auc score across  5  folds: 0.5332313927902164 with a standard diviation of 0.11881895051537544\n"
          ],
          "name": "stdout"
        }
      ]
    },
    {
      "cell_type": "code",
      "metadata": {
        "id": "S75947fSaWru",
        "outputId": "07f7053b-55f6-42d2-9443-996eaf042140",
        "colab": {
          "base_uri": "https://localhost:8080/",
          "height": 121
        }
      },
      "source": [
        "from sklearn.svm import SVC\n",
        "svc = SVC()\n",
        "kfold_eval_model(svc)\n",
        "svc = SVC()\n",
        "roc_it(svc)"
      ],
      "execution_count": 29,
      "outputs": [
        {
          "output_type": "stream",
          "text": [
            "SVC\n",
            "Average train f1 score across  5  folds: 0.785275573312892 with a standard diviation of 0.028191199511012725\n",
            "Average test f1 score across  5  folds: 0.6045530939648587 with a standard diviation of 0.06897512794068174\n",
            "SVC\n",
            "Average train roc auc score across  5  folds: 0.7257695032316989 with a standard diviation of 0.04684601046443671\n",
            "Average test roc auc score across  5  folds: 0.5252194700724113 with a standard diviation of 0.08405608133242347\n"
          ],
          "name": "stdout"
        }
      ]
    },
    {
      "cell_type": "code",
      "metadata": {
        "id": "yRCijmh9caYH",
        "outputId": "75bea02b-ec62-45aa-fbd5-1f63caddd140",
        "colab": {
          "base_uri": "https://localhost:8080/",
          "height": 121
        }
      },
      "source": [
        "from sklearn.linear_model import LinearRegression\n",
        "linr = LinearRegression()\n",
        "kfold_eval_model(linr)\n",
        "linr = LinearRegression()\n",
        "roc_it(linr)"
      ],
      "execution_count": 30,
      "outputs": [
        {
          "output_type": "stream",
          "text": [
            "LinearRegression\n",
            "Average train f1 score across  5  folds: 0.6840894090417865 with a standard diviation of 0.048445231720898686\n",
            "Average test f1 score across  5  folds: 0.6015869484612533 with a standard diviation of 0.12564479877131113\n",
            "LinearRegression\n",
            "Average train roc auc score across  5  folds: 0.7002680669553227 with a standard diviation of 0.05060090112150527\n",
            "Average test roc auc score across  5  folds: 0.5981870253929077 with a standard diviation of 0.17653195075319206\n"
          ],
          "name": "stdout"
        }
      ]
    },
    {
      "cell_type": "markdown",
      "metadata": {
        "id": "WTNf7aocdGjg"
      },
      "source": [
        "<a id=\"part-three\"></a>\n",
        "## Part 3: Cross Validation results\n",
        "Below we have the results for each of the models using cross-validation, listed in order based on the f1 score on the test data.\n",
        " \n",
        "The top-performing model was Lasso regression (a model which focuses on regularization, to avoid overfitting), with an average f1 score of .699. Notice that the difference between the models training and test performance I very close, whereas most of the models overfit to some degree. There is also a smaller variance in score in the training set, but there is a greater variance on the score for the test set, so there will be many cases where the model performs better in testing than in training.\n",
        "\n",
        "\n",
        "[Return to Table of Contents](#toc)"
      ]
    },
    {
      "cell_type": "code",
      "metadata": {
        "id": "D2Q2lc5lk8U_",
        "outputId": "1fc3ea95-fe6f-4d4a-9f22-ef714412c86d",
        "colab": {
          "base_uri": "https://localhost:8080/",
          "height": 645
        }
      },
      "source": [
        "model_performance.sort_values('Mean test score', ascending=False)"
      ],
      "execution_count": 31,
      "outputs": [
        {
          "output_type": "execute_result",
          "data": {
            "text/html": [
              "<div>\n",
              "<style scoped>\n",
              "    .dataframe tbody tr th:only-of-type {\n",
              "        vertical-align: middle;\n",
              "    }\n",
              "\n",
              "    .dataframe tbody tr th {\n",
              "        vertical-align: top;\n",
              "    }\n",
              "\n",
              "    .dataframe thead th {\n",
              "        text-align: right;\n",
              "    }\n",
              "</style>\n",
              "<table border=\"1\" class=\"dataframe\">\n",
              "  <thead>\n",
              "    <tr style=\"text-align: right;\">\n",
              "      <th></th>\n",
              "      <th>Model</th>\n",
              "      <th>Mean train score</th>\n",
              "      <th>Train standard deviation</th>\n",
              "      <th>Mean test score</th>\n",
              "      <th>Test standard deviation</th>\n",
              "    </tr>\n",
              "  </thead>\n",
              "  <tbody>\n",
              "    <tr>\n",
              "      <th>0</th>\n",
              "      <td>Lasso</td>\n",
              "      <td>0.7072023024721226</td>\n",
              "      <td>0.027219721777343178</td>\n",
              "      <td>0.6997160376173422</td>\n",
              "      <td>0.1120296299070614</td>\n",
              "    </tr>\n",
              "    <tr>\n",
              "      <th>0</th>\n",
              "      <td>GradientBoostingClassifier</td>\n",
              "      <td>0.9221257650140059</td>\n",
              "      <td>0.015850941848178896</td>\n",
              "      <td>0.6361327561327561</td>\n",
              "      <td>0.048414846738268486</td>\n",
              "    </tr>\n",
              "    <tr>\n",
              "      <th>0</th>\n",
              "      <td>LogisticRegression</td>\n",
              "      <td>0.7100503691291509</td>\n",
              "      <td>0.04207986000236754</td>\n",
              "      <td>0.6308839342188489</td>\n",
              "      <td>0.083633310645831</td>\n",
              "    </tr>\n",
              "    <tr>\n",
              "      <th>0</th>\n",
              "      <td>ARDRegression</td>\n",
              "      <td>0.6953724114379852</td>\n",
              "      <td>0.03353357209116576</td>\n",
              "      <td>0.6293035835023664</td>\n",
              "      <td>0.1167513531214658</td>\n",
              "    </tr>\n",
              "    <tr>\n",
              "      <th>0</th>\n",
              "      <td>GaussianNB</td>\n",
              "      <td>0.6431413645982158</td>\n",
              "      <td>0.05542968031086681</td>\n",
              "      <td>0.6266339436528535</td>\n",
              "      <td>0.13161899107690309</td>\n",
              "    </tr>\n",
              "    <tr>\n",
              "      <th>0</th>\n",
              "      <td>BayesianRidge</td>\n",
              "      <td>0.7008023159636064</td>\n",
              "      <td>0.026967117648673253</td>\n",
              "      <td>0.6246090579794695</td>\n",
              "      <td>0.08094762967690829</td>\n",
              "    </tr>\n",
              "    <tr>\n",
              "      <th>0</th>\n",
              "      <td>CategoricalNB</td>\n",
              "      <td>0.703598184364286</td>\n",
              "      <td>0.02462385833163432</td>\n",
              "      <td>0.6220042756399577</td>\n",
              "      <td>0.07390771879656478</td>\n",
              "    </tr>\n",
              "    <tr>\n",
              "      <th>0</th>\n",
              "      <td>RidgeClassifier</td>\n",
              "      <td>0.6816096246752097</td>\n",
              "      <td>0.0479790142241699</td>\n",
              "      <td>0.6052651093807935</td>\n",
              "      <td>0.12384924452624525</td>\n",
              "    </tr>\n",
              "    <tr>\n",
              "      <th>0</th>\n",
              "      <td>SVC</td>\n",
              "      <td>0.785275573312892</td>\n",
              "      <td>0.028191199511012725</td>\n",
              "      <td>0.6045530939648587</td>\n",
              "      <td>0.06897512794068174</td>\n",
              "    </tr>\n",
              "    <tr>\n",
              "      <th>0</th>\n",
              "      <td>LinearRegression</td>\n",
              "      <td>0.6840894090417865</td>\n",
              "      <td>0.048445231720898686</td>\n",
              "      <td>0.6015869484612533</td>\n",
              "      <td>0.12564479877131113</td>\n",
              "    </tr>\n",
              "    <tr>\n",
              "      <th>0</th>\n",
              "      <td>ExtraTreesClassifier</td>\n",
              "      <td>0.7368248666530433</td>\n",
              "      <td>0.03418037624550693</td>\n",
              "      <td>0.5964162561576355</td>\n",
              "      <td>0.0833135715525022</td>\n",
              "    </tr>\n",
              "    <tr>\n",
              "      <th>0</th>\n",
              "      <td>DecisionTreeClassifier</td>\n",
              "      <td>0.8835630592077232</td>\n",
              "      <td>0.0179391916201561</td>\n",
              "      <td>0.5764367816091955</td>\n",
              "      <td>0.11248678061414254</td>\n",
              "    </tr>\n",
              "    <tr>\n",
              "      <th>0</th>\n",
              "      <td>RandomForestClassifier</td>\n",
              "      <td>0.9575695539330754</td>\n",
              "      <td>0.008363776360891674</td>\n",
              "      <td>0.5754071249065686</td>\n",
              "      <td>0.043015320341424794</td>\n",
              "    </tr>\n",
              "    <tr>\n",
              "      <th>0</th>\n",
              "      <td>MLPClassifier</td>\n",
              "      <td>0.7229770229770229</td>\n",
              "      <td>0.07483239911649442</td>\n",
              "      <td>0.5447044458809165</td>\n",
              "      <td>0.2345193738183944</td>\n",
              "    </tr>\n",
              "    <tr>\n",
              "      <th>0</th>\n",
              "      <td>KNeighborsClassifier</td>\n",
              "      <td>0.7142374574941052</td>\n",
              "      <td>0.045889042972027554</td>\n",
              "      <td>0.533117193439774</td>\n",
              "      <td>0.1101412808597095</td>\n",
              "    </tr>\n",
              "    <tr>\n",
              "      <th>0</th>\n",
              "      <td>BaggingClassifier</td>\n",
              "      <td>0.9296667602937061</td>\n",
              "      <td>0.011327347476959326</td>\n",
              "      <td>0.5290749863163656</td>\n",
              "      <td>0.03936542640121787</td>\n",
              "    </tr>\n",
              "    <tr>\n",
              "      <th>0</th>\n",
              "      <td>ComplementNB</td>\n",
              "      <td>0.595263745004267</td>\n",
              "      <td>0.03469951695175468</td>\n",
              "      <td>0.5266756232273473</td>\n",
              "      <td>0.11783309386546004</td>\n",
              "    </tr>\n",
              "    <tr>\n",
              "      <th>0</th>\n",
              "      <td>NuSVC</td>\n",
              "      <td>0.8827915893658581</td>\n",
              "      <td>0.010065125408085285</td>\n",
              "      <td>0.5196403596403596</td>\n",
              "      <td>0.09452820901624054</td>\n",
              "    </tr>\n",
              "    <tr>\n",
              "      <th>0</th>\n",
              "      <td>GaussianProcessClassifier</td>\n",
              "      <td>0.9063566362754246</td>\n",
              "      <td>0.01504519504221743</td>\n",
              "      <td>0.5066235210840327</td>\n",
              "      <td>0.08947009814638657</td>\n",
              "    </tr>\n",
              "  </tbody>\n",
              "</table>\n",
              "</div>"
            ],
            "text/plain": [
              "                        Model  ... Test standard deviation\n",
              "0                       Lasso  ...      0.1120296299070614\n",
              "0  GradientBoostingClassifier  ...    0.048414846738268486\n",
              "0          LogisticRegression  ...       0.083633310645831\n",
              "0               ARDRegression  ...      0.1167513531214658\n",
              "0                  GaussianNB  ...     0.13161899107690309\n",
              "0               BayesianRidge  ...     0.08094762967690829\n",
              "0               CategoricalNB  ...     0.07390771879656478\n",
              "0             RidgeClassifier  ...     0.12384924452624525\n",
              "0                         SVC  ...     0.06897512794068174\n",
              "0            LinearRegression  ...     0.12564479877131113\n",
              "0        ExtraTreesClassifier  ...      0.0833135715525022\n",
              "0      DecisionTreeClassifier  ...     0.11248678061414254\n",
              "0      RandomForestClassifier  ...    0.043015320341424794\n",
              "0               MLPClassifier  ...      0.2345193738183944\n",
              "0        KNeighborsClassifier  ...      0.1101412808597095\n",
              "0           BaggingClassifier  ...     0.03936542640121787\n",
              "0                ComplementNB  ...     0.11783309386546004\n",
              "0                       NuSVC  ...     0.09452820901624054\n",
              "0   GaussianProcessClassifier  ...     0.08947009814638657\n",
              "\n",
              "[19 rows x 5 columns]"
            ]
          },
          "metadata": {
            "tags": []
          },
          "execution_count": 31
        }
      ]
    },
    {
      "cell_type": "markdown",
      "metadata": {
        "id": "lzmDaQL3O_pA"
      },
      "source": [
        "Below we can see what the predictions from the lasso model look like. It predicts all outcomes as being positive. My guess is that due to the low sample size all coefficients get pushed to zero too easily."
      ]
    },
    {
      "cell_type": "code",
      "metadata": {
        "id": "YurUd75pNWpK",
        "outputId": "4234c1a6-2819-4fa6-aeec-542aba8cdaaa",
        "colab": {
          "base_uri": "https://localhost:8080/",
          "height": 156
        }
      },
      "source": [
        "las.predict(X).round()"
      ],
      "execution_count": 32,
      "outputs": [
        {
          "output_type": "execute_result",
          "data": {
            "text/plain": [
              "array([1., 1., 1., 1., 1., 1., 1., 1., 1., 1., 1., 1., 1., 1., 1., 1., 1.,\n",
              "       1., 1., 1., 1., 1., 1., 1., 1., 1., 1., 1., 1., 1., 1., 1., 1., 1.,\n",
              "       1., 1., 1., 1., 1., 1., 1., 1., 1., 1., 1., 1., 1., 1., 1., 1., 1.,\n",
              "       1., 1., 1., 1., 1., 1., 1., 1., 1., 1., 1., 1., 1., 1., 1., 1., 1.,\n",
              "       1., 1., 1., 1., 1., 1., 1., 1., 1., 1., 1., 1., 1., 1., 1., 1., 1.,\n",
              "       1., 1., 1., 1., 1., 1., 1., 1., 1., 1., 1., 1., 1., 1., 1., 1., 1.,\n",
              "       1., 1., 1., 1., 1., 1., 1., 1., 1., 1., 1., 1., 1., 1., 1., 1., 1.,\n",
              "       1., 1., 1., 1., 1., 1., 1.])"
            ]
          },
          "metadata": {
            "tags": []
          },
          "execution_count": 32
        }
      ]
    },
    {
      "cell_type": "code",
      "metadata": {
        "id": "nyxGy3g3Zh3_",
        "outputId": "d378bd0a-a5b9-4933-e07d-0964ce17e12e",
        "colab": {
          "base_uri": "https://localhost:8080/",
          "height": 69
        }
      },
      "source": [
        "data.Y.value_counts()"
      ],
      "execution_count": 33,
      "outputs": [
        {
          "output_type": "execute_result",
          "data": {
            "text/plain": [
              "1    69\n",
              "0    57\n",
              "Name: Y, dtype: int64"
            ]
          },
          "metadata": {
            "tags": []
          },
          "execution_count": 33
        }
      ]
    },
    {
      "cell_type": "markdown",
      "metadata": {
        "id": "u9Y_e9_dP3fD"
      },
      "source": [
        " \n",
        " Below We have a new dataframe that represents the area under the curve for the operator reciever characteristic (or ROC AUC for short). A similar metric to the f1 score, however, it evaluates the probabilities of a model output and not the model’s final decision). The key difference between the two is that it won't ever favor a model which only outputs a 1 or 0 (with the exception of an instance in which all outcomes happen to actually be 0 or 1).\n",
        " \n",
        "A couple of interesting notes: the standard deviation in testing data versus training data is even greater across this metric. Also, many of the top-performing models in this section are Bayesian, in further testing, I discovered this set of models was impacted more by the section of the dataset it was exposed to and not so much by the hyperparameters.\n",
        " "
      ]
    },
    {
      "cell_type": "code",
      "metadata": {
        "id": "NRupXiGsP3GY",
        "outputId": "a20a1140-157d-4e0d-daf5-09b7e02e7425",
        "colab": {
          "base_uri": "https://localhost:8080/",
          "height": 645
        }
      },
      "source": [
        "model_aucroc_performance.sort_values('Mean test score', ascending=False)"
      ],
      "execution_count": 34,
      "outputs": [
        {
          "output_type": "execute_result",
          "data": {
            "text/html": [
              "<div>\n",
              "<style scoped>\n",
              "    .dataframe tbody tr th:only-of-type {\n",
              "        vertical-align: middle;\n",
              "    }\n",
              "\n",
              "    .dataframe tbody tr th {\n",
              "        vertical-align: top;\n",
              "    }\n",
              "\n",
              "    .dataframe thead th {\n",
              "        text-align: right;\n",
              "    }\n",
              "</style>\n",
              "<table border=\"1\" class=\"dataframe\">\n",
              "  <thead>\n",
              "    <tr style=\"text-align: right;\">\n",
              "      <th></th>\n",
              "      <th>Model</th>\n",
              "      <th>Mean train score</th>\n",
              "      <th>Train standard deviation</th>\n",
              "      <th>Mean test score</th>\n",
              "      <th>Test standard deviation</th>\n",
              "    </tr>\n",
              "  </thead>\n",
              "  <tbody>\n",
              "    <tr>\n",
              "      <th>0</th>\n",
              "      <td>CategoricalNB</td>\n",
              "      <td>0.7441649515739663</td>\n",
              "      <td>0.02142571907594222</td>\n",
              "      <td>0.625404252610135</td>\n",
              "      <td>0.12613942716946508</td>\n",
              "    </tr>\n",
              "    <tr>\n",
              "      <th>0</th>\n",
              "      <td>BayesianRidge</td>\n",
              "      <td>0.6863706913728984</td>\n",
              "      <td>0.05529805532168222</td>\n",
              "      <td>0.6244959289076937</td>\n",
              "      <td>0.18427068330068205</td>\n",
              "    </tr>\n",
              "    <tr>\n",
              "      <th>0</th>\n",
              "      <td>GaussianNB</td>\n",
              "      <td>0.6755720908649914</td>\n",
              "      <td>0.057625754163082375</td>\n",
              "      <td>0.6182684962096727</td>\n",
              "      <td>0.19431380636948567</td>\n",
              "    </tr>\n",
              "    <tr>\n",
              "      <th>0</th>\n",
              "      <td>ExtraTreesClassifier</td>\n",
              "      <td>0.7513063415619455</td>\n",
              "      <td>0.03402992615635292</td>\n",
              "      <td>0.6179807120983591</td>\n",
              "      <td>0.15132717012869032</td>\n",
              "    </tr>\n",
              "    <tr>\n",
              "      <th>0</th>\n",
              "      <td>ARDRegression</td>\n",
              "      <td>0.6950156304631433</td>\n",
              "      <td>0.04699739248722875</td>\n",
              "      <td>0.611437663643546</td>\n",
              "      <td>0.17917500091642732</td>\n",
              "    </tr>\n",
              "    <tr>\n",
              "      <th>0</th>\n",
              "      <td>LinearRegression</td>\n",
              "      <td>0.7002680669553227</td>\n",
              "      <td>0.05060090112150527</td>\n",
              "      <td>0.5981870253929077</td>\n",
              "      <td>0.17653195075319206</td>\n",
              "    </tr>\n",
              "    <tr>\n",
              "      <th>0</th>\n",
              "      <td>DecisionTreeClassifier</td>\n",
              "      <td>0.9558905961666768</td>\n",
              "      <td>0.008471006833070322</td>\n",
              "      <td>0.5721231791084732</td>\n",
              "      <td>0.10031712526180447</td>\n",
              "    </tr>\n",
              "    <tr>\n",
              "      <th>0</th>\n",
              "      <td>GradientBoostingClassifier</td>\n",
              "      <td>0.9744594552847575</td>\n",
              "      <td>0.010228692067009857</td>\n",
              "      <td>0.5659119475295945</td>\n",
              "      <td>0.12478124812687111</td>\n",
              "    </tr>\n",
              "    <tr>\n",
              "      <th>0</th>\n",
              "      <td>RidgeClassifier</td>\n",
              "      <td>0.6062945748434908</td>\n",
              "      <td>0.05471803361765047</td>\n",
              "      <td>0.5585485592838534</td>\n",
              "      <td>0.13984965252196627</td>\n",
              "    </tr>\n",
              "    <tr>\n",
              "      <th>0</th>\n",
              "      <td>RandomForestClassifier</td>\n",
              "      <td>0.9930358395478722</td>\n",
              "      <td>0.002175624531374759</td>\n",
              "      <td>0.5492752345693523</td>\n",
              "      <td>0.07518989867838913</td>\n",
              "    </tr>\n",
              "    <tr>\n",
              "      <th>0</th>\n",
              "      <td>MLPClassifier</td>\n",
              "      <td>0.7432559941372956</td>\n",
              "      <td>0.05802948259295682</td>\n",
              "      <td>0.5387142269495211</td>\n",
              "      <td>0.15557705072973313</td>\n",
              "    </tr>\n",
              "    <tr>\n",
              "      <th>0</th>\n",
              "      <td>ComplementNB</td>\n",
              "      <td>0.6164870050736065</td>\n",
              "      <td>0.020428729181354303</td>\n",
              "      <td>0.5332313927902164</td>\n",
              "      <td>0.11881895051537544</td>\n",
              "    </tr>\n",
              "    <tr>\n",
              "      <th>0</th>\n",
              "      <td>SVC</td>\n",
              "      <td>0.7257695032316989</td>\n",
              "      <td>0.04684601046443671</td>\n",
              "      <td>0.5252194700724113</td>\n",
              "      <td>0.08405608133242347</td>\n",
              "    </tr>\n",
              "    <tr>\n",
              "      <th>0</th>\n",
              "      <td>LogisticRegression</td>\n",
              "      <td>0.6669227170636359</td>\n",
              "      <td>0.04712916225236616</td>\n",
              "      <td>0.5209628198598788</td>\n",
              "      <td>0.12827400973177425</td>\n",
              "    </tr>\n",
              "    <tr>\n",
              "      <th>0</th>\n",
              "      <td>BaggingClassifier</td>\n",
              "      <td>0.9817490596418729</td>\n",
              "      <td>0.008554231471448289</td>\n",
              "      <td>0.5032032918062329</td>\n",
              "      <td>0.0797747945802279</td>\n",
              "    </tr>\n",
              "    <tr>\n",
              "      <th>0</th>\n",
              "      <td>Lasso</td>\n",
              "      <td>0.5</td>\n",
              "      <td>0.0</td>\n",
              "      <td>0.5</td>\n",
              "      <td>0.0</td>\n",
              "    </tr>\n",
              "    <tr>\n",
              "      <th>0</th>\n",
              "      <td>KNeighborsClassifier</td>\n",
              "      <td>0.7473340936662767</td>\n",
              "      <td>0.056269154598309425</td>\n",
              "      <td>0.4864143209731445</td>\n",
              "      <td>0.12625870561211838</td>\n",
              "    </tr>\n",
              "    <tr>\n",
              "      <th>0</th>\n",
              "      <td>NuSVC</td>\n",
              "      <td>0.8627372484101639</td>\n",
              "      <td>0.011872573392075241</td>\n",
              "      <td>0.470139256168668</td>\n",
              "      <td>0.0875657915459412</td>\n",
              "    </tr>\n",
              "    <tr>\n",
              "      <th>0</th>\n",
              "      <td>GaussianProcessClassifier</td>\n",
              "      <td>0.9465885109357337</td>\n",
              "      <td>0.013712732807875787</td>\n",
              "      <td>0.44947389212095096</td>\n",
              "      <td>0.12726057650561276</td>\n",
              "    </tr>\n",
              "  </tbody>\n",
              "</table>\n",
              "</div>"
            ],
            "text/plain": [
              "                        Model  ... Test standard deviation\n",
              "0               CategoricalNB  ...     0.12613942716946508\n",
              "0               BayesianRidge  ...     0.18427068330068205\n",
              "0                  GaussianNB  ...     0.19431380636948567\n",
              "0        ExtraTreesClassifier  ...     0.15132717012869032\n",
              "0               ARDRegression  ...     0.17917500091642732\n",
              "0            LinearRegression  ...     0.17653195075319206\n",
              "0      DecisionTreeClassifier  ...     0.10031712526180447\n",
              "0  GradientBoostingClassifier  ...     0.12478124812687111\n",
              "0             RidgeClassifier  ...     0.13984965252196627\n",
              "0      RandomForestClassifier  ...     0.07518989867838913\n",
              "0               MLPClassifier  ...     0.15557705072973313\n",
              "0                ComplementNB  ...     0.11881895051537544\n",
              "0                         SVC  ...     0.08405608133242347\n",
              "0          LogisticRegression  ...     0.12827400973177425\n",
              "0           BaggingClassifier  ...      0.0797747945802279\n",
              "0                       Lasso  ...                     0.0\n",
              "0        KNeighborsClassifier  ...     0.12625870561211838\n",
              "0                       NuSVC  ...      0.0875657915459412\n",
              "0   GaussianProcessClassifier  ...     0.12726057650561276\n",
              "\n",
              "[19 rows x 5 columns]"
            ]
          },
          "metadata": {
            "tags": []
          },
          "execution_count": 34
        }
      ]
    },
    {
      "cell_type": "markdown",
      "metadata": {
        "id": "QVt_D605jnZC"
      },
      "source": [
        "<a id=\"part-four\"></a>\n",
        "## Part 4: Single train/test split performance\n",
        "\n",
        "\n",
        " Considering the variance in performance for most models (the standard deviation), there are many possible training/test splits where a model would recieve an f1 score of .73+, but they most likely would not be able to reproduce those results on new data.\n",
        " \n",
        "Below we have three such models with varying levels of complexity, each using a different split of the data.\n",
        "\n",
        "\n",
        "[Return to Table of Contents](#toc)"
      ]
    },
    {
      "cell_type": "code",
      "metadata": {
        "id": "gIr1AMIV7d3x",
        "outputId": "d68e3c38-e54d-4d7b-f456-345a56c721a5",
        "colab": {
          "base_uri": "https://localhost:8080/",
          "height": 52
        }
      },
      "source": [
        "x_train, x_test, y_train, y_test = train_test_split(X, y, test_size=.3, random_state=5)\n",
        "xtrain1 = x_train.copy()\n",
        "rfc = RandomForestClassifier(n_estimators=20, max_depth=11, random_state=42)\n",
        "model_test(rfc)"
      ],
      "execution_count": 35,
      "outputs": [
        {
          "output_type": "stream",
          "text": [
            "Train F1 score for RandomForestClassifier is: 0.924731182795699\n",
            "Test F1 score for RandomForestClassifier is: 0.7659574468085107\n"
          ],
          "name": "stdout"
        }
      ]
    },
    {
      "cell_type": "code",
      "metadata": {
        "id": "XHFosJRr2KSN",
        "outputId": "3106ebca-2211-4f6e-c36e-65d05aa8fff1",
        "colab": {
          "base_uri": "https://localhost:8080/",
          "height": 52
        }
      },
      "source": [
        "x_train, x_test, y_train, y_test = train_test_split(X, y, test_size=.3, random_state=34)\n",
        "xtrain2 = x_train.copy()\n",
        "mlpc = MLPClassifier(max_iter=255, activation= 'tanh', hidden_layer_sizes=(147, 49, 7),  solver='adam', batch_size=24, random_state=42)\n",
        "model_test(mlpc)"
      ],
      "execution_count": 36,
      "outputs": [
        {
          "output_type": "stream",
          "text": [
            "Train F1 score for MLPClassifier is: 0.8431372549019608\n",
            "Test F1 score for MLPClassifier is: 0.761904761904762\n"
          ],
          "name": "stdout"
        }
      ]
    },
    {
      "cell_type": "code",
      "metadata": {
        "id": "VIZll9eqZ-cK",
        "outputId": "c75e7b33-d2ee-44b9-eeb3-62f414c2f27f",
        "colab": {
          "base_uri": "https://localhost:8080/",
          "height": 52
        }
      },
      "source": [
        "x_train, x_test, y_train, y_test = train_test_split(X, y, test_size=.3, random_state=31)\n",
        "xtrain3 = x_train.copy()\n",
        "gbr = GradientBoostingClassifier(n_estimators=60, random_state=8)\n",
        "model_test(gbr)"
      ],
      "execution_count": 37,
      "outputs": [
        {
          "output_type": "stream",
          "text": [
            "Train F1 score for GradientBoostingClassifier is: 0.9263157894736843\n",
            "Test F1 score for GradientBoostingClassifier is: 0.7906976744186046\n"
          ],
          "name": "stdout"
        }
      ]
    },
    {
      "cell_type": "markdown",
      "metadata": {
        "id": "MdoE5VCoNOQv"
      },
      "source": [
        "Below we have a very quick analysis of the differences in each of the training splits."
      ]
    },
    {
      "cell_type": "code",
      "metadata": {
        "id": "n-ak89V2qaeH",
        "outputId": "49873572-c9ab-44a4-b60f-6342b7c7d203",
        "colab": {
          "base_uri": "https://localhost:8080/",
          "height": 156
        }
      },
      "source": [
        "print('there are',len(pd.DataFrame(xtrain1)), 'total entries in each training set')\n",
        "xtrain1 = pd.DataFrame(xtrain1)\n",
        "xtrain2 = pd.DataFrame(xtrain2)\n",
        "xtrain3 = pd.DataFrame(xtrain3)\n",
        "print('set 1 contains', len(xtrain1)-len(xtrain1.drop_duplicates()), 'rows which are duplicates')\n",
        "print('set 2 contains', len(xtrain2)-len(xtrain2.drop_duplicates()), 'rows which are duplicates')\n",
        "print('set 3 contains', len(xtrain3)-len(xtrain3.drop_duplicates()), 'rows which are duplicates')\n",
        "xtrain1 = xtrain1.drop_duplicates()\n",
        "xtrain2 = xtrain2.drop_duplicates()\n",
        "xtrain3 = xtrain3.drop_duplicates()\n",
        "_ = (xtrain1.append(xtrain2, ignore_index=True))\n",
        "print('set 1 and 2 have',len(_) - len(_.drop_duplicates()), 'rows in common')\n",
        "_ = (xtrain1.append(xtrain3, ignore_index=True))\n",
        "print('set 1 and 3 have',len(_) - len(_.drop_duplicates()), 'rows in common')\n",
        "_ = (xtrain2.append(xtrain3, ignore_index=True))\n",
        "print('set 2 and 3 have',len(_) - len(_.drop_duplicates()), 'rows in common')\n",
        "print('There are',len((pd.DataFrame(X)).drop_duplicates())- len(((xtrain1.append(xtrain2, ignore_index=True)).append(xtrain3, ignore_index=True)).drop_duplicates()), 'unique rows in the full dataset which are not present in the 3 splits')"
      ],
      "execution_count": 38,
      "outputs": [
        {
          "output_type": "stream",
          "text": [
            "there are 88 total entries in each training set\n",
            "set 1 contains 12 rows which are duplicates\n",
            "set 2 contains 9 rows which are duplicates\n",
            "set 3 contains 11 rows which are duplicates\n",
            "set 1 and 2 have 56 rows in common\n",
            "set 1 and 3 have 58 rows in common\n",
            "set 2 and 3 have 58 rows in common\n",
            "There are 0 unique rows in the full dataset which are not present in the 3 splits\n"
          ],
          "name": "stdout"
        }
      ]
    },
    {
      "cell_type": "markdown",
      "metadata": {
        "id": "HpMjkvAKkgJE"
      },
      "source": [
        "<a id=\"part-five\"></a>\n",
        "## Part 5: Model interpretations\n",
        "Here I will use feature importance and permutation importance to see which features matter most to our customers.\n",
        " \n",
        "Below we have the feature importance for the random forest model. This model finds the most signal in the x2, x3, and x5 values.\n",
        "\n",
        "[Return to Table of Contents](#toc)"
      ]
    },
    {
      "cell_type": "code",
      "metadata": {
        "id": "L6SjcHIxkZxK",
        "outputId": "82be50ec-162e-40a2-bef2-93b0d6e74f14",
        "colab": {
          "base_uri": "https://localhost:8080/",
          "height": 121
        }
      },
      "source": [
        "for num in range(6):\n",
        "  print(data.drop(\"Y\", axis=1).columns[num], ':', rfc.feature_importances_[num])"
      ],
      "execution_count": 39,
      "outputs": [
        {
          "output_type": "stream",
          "text": [
            "X1 : 0.16381327357862832\n",
            "X2 : 0.20602878606579025\n",
            "X3 : 0.18001504708896884\n",
            "X4 : 0.13605809238952865\n",
            "X5 : 0.2075237415643067\n",
            "X6 : 0.10656105931277726\n"
          ],
          "name": "stdout"
        }
      ]
    },
    {
      "cell_type": "markdown",
      "metadata": {
        "id": "VW3RsnJ27u7V"
      },
      "source": [
        "Since Sci Kit Learn does not have feature importance built-in for the other two models, I will instead use permutation importance. Permutation   importance takes a model and a dataset, it then randomly shuffle one row at a time and measure the performance difference between iterations to determine which features are the most important for inference.\n",
        " \n",
        "Below we have the permutation importance (using both auc_roc and f1) for the same random forest model. As mentioned before permutation importance can be affected by dataset size and since there is some conflict with the feature importance I imagine these results are far from conclusive.\n",
        " \n",
        "Below, we see X4 and X1 as the two most impactful features. Whereas X2 and X6 are both within a range where their value could be happenstance.\n"
      ]
    },
    {
      "cell_type": "code",
      "metadata": {
        "id": "-diCjwNO_LXy",
        "outputId": "b37b4785-c606-4dfb-8ea9-27556f0ccb61",
        "colab": {
          "base_uri": "https://localhost:8080/",
          "height": 556
        }
      },
      "source": [
        "rfc = RandomForestClassifier(n_estimators=20, max_depth=11, random_state=42)\n",
        "print('Permutation importance score based on f1:')\n",
        "display(permutation_importance(data, 'Y', model=rfc, perc=1., rs=5,metric=metrics.f1_score, print_status=False))\n",
        "print('Permutation importance score based on auc_roc:')\n",
        "display(permutation_importance(data, 'Y', model=rfc, perc=1., rs=5, print_status=False))"
      ],
      "execution_count": 40,
      "outputs": [
        {
          "output_type": "stream",
          "text": [
            "Permutation importance score based on f1:\n"
          ],
          "name": "stdout"
        },
        {
          "output_type": "display_data",
          "data": {
            "text/html": [
              "<div>\n",
              "<style scoped>\n",
              "    .dataframe tbody tr th:only-of-type {\n",
              "        vertical-align: middle;\n",
              "    }\n",
              "\n",
              "    .dataframe tbody tr th {\n",
              "        vertical-align: top;\n",
              "    }\n",
              "\n",
              "    .dataframe thead th {\n",
              "        text-align: right;\n",
              "    }\n",
              "</style>\n",
              "<table border=\"1\" class=\"dataframe\">\n",
              "  <thead>\n",
              "    <tr style=\"text-align: right;\">\n",
              "      <th></th>\n",
              "      <th>0</th>\n",
              "    </tr>\n",
              "  </thead>\n",
              "  <tbody>\n",
              "    <tr>\n",
              "      <th>baseline</th>\n",
              "      <td>0.765957</td>\n",
              "    </tr>\n",
              "    <tr>\n",
              "      <th>X2</th>\n",
              "      <td>0.244218</td>\n",
              "    </tr>\n",
              "    <tr>\n",
              "      <th>X5</th>\n",
              "      <td>0.214233</td>\n",
              "    </tr>\n",
              "    <tr>\n",
              "      <th>X6</th>\n",
              "      <td>0.194529</td>\n",
              "    </tr>\n",
              "    <tr>\n",
              "      <th>X1</th>\n",
              "      <td>0.145268</td>\n",
              "    </tr>\n",
              "    <tr>\n",
              "      <th>X3</th>\n",
              "      <td>0.123100</td>\n",
              "    </tr>\n",
              "    <tr>\n",
              "      <th>X4</th>\n",
              "      <td>0.045957</td>\n",
              "    </tr>\n",
              "  </tbody>\n",
              "</table>\n",
              "</div>"
            ],
            "text/plain": [
              "                 0\n",
              "baseline  0.765957\n",
              "X2        0.244218\n",
              "X5        0.214233\n",
              "X6        0.194529\n",
              "X1        0.145268\n",
              "X3        0.123100\n",
              "X4        0.045957"
            ]
          },
          "metadata": {
            "tags": []
          }
        },
        {
          "output_type": "stream",
          "text": [
            "Permutation importance score based on auc_roc:\n"
          ],
          "name": "stdout"
        },
        {
          "output_type": "display_data",
          "data": {
            "text/html": [
              "<div>\n",
              "<style scoped>\n",
              "    .dataframe tbody tr th:only-of-type {\n",
              "        vertical-align: middle;\n",
              "    }\n",
              "\n",
              "    .dataframe tbody tr th {\n",
              "        vertical-align: top;\n",
              "    }\n",
              "\n",
              "    .dataframe thead th {\n",
              "        text-align: right;\n",
              "    }\n",
              "</style>\n",
              "<table border=\"1\" class=\"dataframe\">\n",
              "  <thead>\n",
              "    <tr style=\"text-align: right;\">\n",
              "      <th></th>\n",
              "      <th>0</th>\n",
              "    </tr>\n",
              "  </thead>\n",
              "  <tbody>\n",
              "    <tr>\n",
              "      <th>baseline</th>\n",
              "      <td>0.707386</td>\n",
              "    </tr>\n",
              "    <tr>\n",
              "      <th>X1</th>\n",
              "      <td>0.119508</td>\n",
              "    </tr>\n",
              "    <tr>\n",
              "      <th>X5</th>\n",
              "      <td>0.086174</td>\n",
              "    </tr>\n",
              "    <tr>\n",
              "      <th>X4</th>\n",
              "      <td>0.080114</td>\n",
              "    </tr>\n",
              "    <tr>\n",
              "      <th>X3</th>\n",
              "      <td>0.077083</td>\n",
              "    </tr>\n",
              "    <tr>\n",
              "      <th>X6</th>\n",
              "      <td>-0.044129</td>\n",
              "    </tr>\n",
              "    <tr>\n",
              "      <th>X2</th>\n",
              "      <td>-0.068371</td>\n",
              "    </tr>\n",
              "  </tbody>\n",
              "</table>\n",
              "</div>"
            ],
            "text/plain": [
              "                 0\n",
              "baseline  0.707386\n",
              "X1        0.119508\n",
              "X5        0.086174\n",
              "X4        0.080114\n",
              "X3        0.077083\n",
              "X6       -0.044129\n",
              "X2       -0.068371"
            ]
          },
          "metadata": {
            "tags": []
          }
        }
      ]
    },
    {
      "cell_type": "markdown",
      "metadata": {
        "id": "auoU_mgEE9EP"
      },
      "source": [
        "Below we can see that the multilayer perceptron net ranks X2 the highest and X1 the least signifigant."
      ]
    },
    {
      "cell_type": "code",
      "metadata": {
        "id": "qiGdat-b_MeZ",
        "outputId": "e11aa6fb-929f-4dfc-f54a-c9ff29b799fa",
        "colab": {
          "base_uri": "https://localhost:8080/",
          "height": 590
        }
      },
      "source": [
        "mlpc = MLPClassifier(max_iter=255, activation= 'tanh', hidden_layer_sizes=(147, 49, 7),  solver='adam', batch_size=24, random_state=42)\n",
        "print('Permutation importance score based on f1:')\n",
        "display(permutation_importance(data, 'Y', model=mlpc, perc=1., rs=34,metric=metrics.f1_score, print_status=False))\n",
        "print('Permutation importance score based on auc_roc:')\n",
        "display(permutation_importance(data, 'Y', model=mlpc, perc=1., rs=34, print_status=False))"
      ],
      "execution_count": 41,
      "outputs": [
        {
          "output_type": "stream",
          "text": [
            "Permutation importance score based on f1:\n"
          ],
          "name": "stdout"
        },
        {
          "output_type": "stream",
          "text": [
            "/usr/local/lib/python3.6/dist-packages/sklearn/neural_network/_multilayer_perceptron.py:571: ConvergenceWarning: Stochastic Optimizer: Maximum iterations (255) reached and the optimization hasn't converged yet.\n",
            "  % self.max_iter, ConvergenceWarning)\n"
          ],
          "name": "stderr"
        },
        {
          "output_type": "display_data",
          "data": {
            "text/html": [
              "<div>\n",
              "<style scoped>\n",
              "    .dataframe tbody tr th:only-of-type {\n",
              "        vertical-align: middle;\n",
              "    }\n",
              "\n",
              "    .dataframe tbody tr th {\n",
              "        vertical-align: top;\n",
              "    }\n",
              "\n",
              "    .dataframe thead th {\n",
              "        text-align: right;\n",
              "    }\n",
              "</style>\n",
              "<table border=\"1\" class=\"dataframe\">\n",
              "  <thead>\n",
              "    <tr style=\"text-align: right;\">\n",
              "      <th></th>\n",
              "      <th>0</th>\n",
              "    </tr>\n",
              "  </thead>\n",
              "  <tbody>\n",
              "    <tr>\n",
              "      <th>baseline</th>\n",
              "      <td>0.761905</td>\n",
              "    </tr>\n",
              "    <tr>\n",
              "      <th>X6</th>\n",
              "      <td>0.245776</td>\n",
              "    </tr>\n",
              "    <tr>\n",
              "      <th>X4</th>\n",
              "      <td>0.228571</td>\n",
              "    </tr>\n",
              "    <tr>\n",
              "      <th>X3</th>\n",
              "      <td>0.216450</td>\n",
              "    </tr>\n",
              "    <tr>\n",
              "      <th>X1</th>\n",
              "      <td>0.190476</td>\n",
              "    </tr>\n",
              "    <tr>\n",
              "      <th>X5</th>\n",
              "      <td>0.169312</td>\n",
              "    </tr>\n",
              "    <tr>\n",
              "      <th>X2</th>\n",
              "      <td>0.155844</td>\n",
              "    </tr>\n",
              "  </tbody>\n",
              "</table>\n",
              "</div>"
            ],
            "text/plain": [
              "                 0\n",
              "baseline  0.761905\n",
              "X6        0.245776\n",
              "X4        0.228571\n",
              "X3        0.216450\n",
              "X1        0.190476\n",
              "X5        0.169312\n",
              "X2        0.155844"
            ]
          },
          "metadata": {
            "tags": []
          }
        },
        {
          "output_type": "stream",
          "text": [
            "Permutation importance score based on auc_roc:\n"
          ],
          "name": "stdout"
        },
        {
          "output_type": "display_data",
          "data": {
            "text/html": [
              "<div>\n",
              "<style scoped>\n",
              "    .dataframe tbody tr th:only-of-type {\n",
              "        vertical-align: middle;\n",
              "    }\n",
              "\n",
              "    .dataframe tbody tr th {\n",
              "        vertical-align: top;\n",
              "    }\n",
              "\n",
              "    .dataframe thead th {\n",
              "        text-align: right;\n",
              "    }\n",
              "</style>\n",
              "<table border=\"1\" class=\"dataframe\">\n",
              "  <thead>\n",
              "    <tr style=\"text-align: right;\">\n",
              "      <th></th>\n",
              "      <th>0</th>\n",
              "    </tr>\n",
              "  </thead>\n",
              "  <tbody>\n",
              "    <tr>\n",
              "      <th>baseline</th>\n",
              "      <td>0.713889</td>\n",
              "    </tr>\n",
              "    <tr>\n",
              "      <th>X6</th>\n",
              "      <td>0.265404</td>\n",
              "    </tr>\n",
              "    <tr>\n",
              "      <th>X4</th>\n",
              "      <td>0.259343</td>\n",
              "    </tr>\n",
              "    <tr>\n",
              "      <th>X3</th>\n",
              "      <td>0.180556</td>\n",
              "    </tr>\n",
              "    <tr>\n",
              "      <th>X5</th>\n",
              "      <td>0.156313</td>\n",
              "    </tr>\n",
              "    <tr>\n",
              "      <th>X1</th>\n",
              "      <td>0.022980</td>\n",
              "    </tr>\n",
              "    <tr>\n",
              "      <th>X2</th>\n",
              "      <td>-0.001263</td>\n",
              "    </tr>\n",
              "  </tbody>\n",
              "</table>\n",
              "</div>"
            ],
            "text/plain": [
              "                 0\n",
              "baseline  0.713889\n",
              "X6        0.265404\n",
              "X4        0.259343\n",
              "X3        0.180556\n",
              "X5        0.156313\n",
              "X1        0.022980\n",
              "X2       -0.001263"
            ]
          },
          "metadata": {
            "tags": []
          }
        }
      ]
    },
    {
      "cell_type": "markdown",
      "metadata": {
        "id": "iQZvUoGDFt8s"
      },
      "source": [
        "Below the gradient boosting model seems to rate most options positively."
      ]
    },
    {
      "cell_type": "code",
      "metadata": {
        "id": "W_zbaaOIBshq",
        "outputId": "9f041be0-0108-4127-9262-4c7d00238459",
        "colab": {
          "base_uri": "https://localhost:8080/",
          "height": 556
        }
      },
      "source": [
        "gbr = GradientBoostingClassifier(n_estimators=60, random_state=8)\n",
        "print('Permutation importance score based on f1:')\n",
        "display(permutation_importance(data, 'Y', model=gbr, perc=1., rs=31,metric=metrics.f1_score, print_status=False))\n",
        "print('Permutation importance score based on auc_roc:')\n",
        "display(permutation_importance(data, 'Y', model=gbr, perc=1., rs=31, print_status=False))"
      ],
      "execution_count": 42,
      "outputs": [
        {
          "output_type": "stream",
          "text": [
            "Permutation importance score based on f1:\n"
          ],
          "name": "stdout"
        },
        {
          "output_type": "display_data",
          "data": {
            "text/html": [
              "<div>\n",
              "<style scoped>\n",
              "    .dataframe tbody tr th:only-of-type {\n",
              "        vertical-align: middle;\n",
              "    }\n",
              "\n",
              "    .dataframe tbody tr th {\n",
              "        vertical-align: top;\n",
              "    }\n",
              "\n",
              "    .dataframe thead th {\n",
              "        text-align: right;\n",
              "    }\n",
              "</style>\n",
              "<table border=\"1\" class=\"dataframe\">\n",
              "  <thead>\n",
              "    <tr style=\"text-align: right;\">\n",
              "      <th></th>\n",
              "      <th>0</th>\n",
              "    </tr>\n",
              "  </thead>\n",
              "  <tbody>\n",
              "    <tr>\n",
              "      <th>baseline</th>\n",
              "      <td>0.790698</td>\n",
              "    </tr>\n",
              "    <tr>\n",
              "      <th>X5</th>\n",
              "      <td>0.272179</td>\n",
              "    </tr>\n",
              "    <tr>\n",
              "      <th>X4</th>\n",
              "      <td>0.238974</td>\n",
              "    </tr>\n",
              "    <tr>\n",
              "      <th>X3</th>\n",
              "      <td>0.175313</td>\n",
              "    </tr>\n",
              "    <tr>\n",
              "      <th>X2</th>\n",
              "      <td>0.147841</td>\n",
              "    </tr>\n",
              "    <tr>\n",
              "      <th>X1</th>\n",
              "      <td>0.147841</td>\n",
              "    </tr>\n",
              "    <tr>\n",
              "      <th>X6</th>\n",
              "      <td>0.095046</td>\n",
              "    </tr>\n",
              "  </tbody>\n",
              "</table>\n",
              "</div>"
            ],
            "text/plain": [
              "                 0\n",
              "baseline  0.790698\n",
              "X5        0.272179\n",
              "X4        0.238974\n",
              "X3        0.175313\n",
              "X2        0.147841\n",
              "X1        0.147841\n",
              "X6        0.095046"
            ]
          },
          "metadata": {
            "tags": []
          }
        },
        {
          "output_type": "stream",
          "text": [
            "Permutation importance score based on auc_roc:\n"
          ],
          "name": "stdout"
        },
        {
          "output_type": "display_data",
          "data": {
            "text/html": [
              "<div>\n",
              "<style scoped>\n",
              "    .dataframe tbody tr th:only-of-type {\n",
              "        vertical-align: middle;\n",
              "    }\n",
              "\n",
              "    .dataframe tbody tr th {\n",
              "        vertical-align: top;\n",
              "    }\n",
              "\n",
              "    .dataframe thead th {\n",
              "        text-align: right;\n",
              "    }\n",
              "</style>\n",
              "<table border=\"1\" class=\"dataframe\">\n",
              "  <thead>\n",
              "    <tr style=\"text-align: right;\">\n",
              "      <th></th>\n",
              "      <th>0</th>\n",
              "    </tr>\n",
              "  </thead>\n",
              "  <tbody>\n",
              "    <tr>\n",
              "      <th>baseline</th>\n",
              "      <td>0.746377</td>\n",
              "    </tr>\n",
              "    <tr>\n",
              "      <th>X4</th>\n",
              "      <td>0.255468</td>\n",
              "    </tr>\n",
              "    <tr>\n",
              "      <th>X6</th>\n",
              "      <td>0.158498</td>\n",
              "    </tr>\n",
              "    <tr>\n",
              "      <th>X2</th>\n",
              "      <td>0.158498</td>\n",
              "    </tr>\n",
              "    <tr>\n",
              "      <th>X3</th>\n",
              "      <td>0.152437</td>\n",
              "    </tr>\n",
              "    <tr>\n",
              "      <th>X5</th>\n",
              "      <td>0.122134</td>\n",
              "    </tr>\n",
              "    <tr>\n",
              "      <th>X1</th>\n",
              "      <td>0.097892</td>\n",
              "    </tr>\n",
              "  </tbody>\n",
              "</table>\n",
              "</div>"
            ],
            "text/plain": [
              "                 0\n",
              "baseline  0.746377\n",
              "X4        0.255468\n",
              "X6        0.158498\n",
              "X2        0.158498\n",
              "X3        0.152437\n",
              "X5        0.122134\n",
              "X1        0.097892"
            ]
          },
          "metadata": {
            "tags": []
          }
        }
      ]
    },
    {
      "cell_type": "markdown",
      "metadata": {
        "id": "-6pRQvfLknAJ"
      },
      "source": [
        "<a id=\"part-six\"></a>\n",
        "## Part 6: Conclusion\n",
        "Since there was a large range in performance using Kfold I would not consider any of the models I produced to realistically achieve the goal of a .73 or higher F1 score (one could debate whether they actually did or not, my hypothesis is that the top-performing models wouldn't generalize very well). Since each of the three top-performing models were trained on different splits of the data I am curious if together their blended predictions would be better than any individual model. There was not a great deal of conformity in the feature importance between each of the models, this may be an artifact of the small dataset or it could possibly be that each model is only seeing a portion of the big picture (like the blind men and the elephant).\n",
        " \n",
        "I chose to limit the models I used to Sci Kit Learn models (to keep the scope of the project narrow). In hindsight, there are some deep learning approaches that I did not try but might have proven useful. There is an approach using transfer learning for tabular data which I'm still working on that may have been effective, but it requires further experimentation before I would trust it for this use-case.\n",
        " \n",
        "This was more interesting than I initially anticipated. I don't typically work with datasets this small. Some of the functions I wrote for this particular project will probably be useful to reuse on some larger ones.\n",
        " \n",
        "I'm curious about what opportunities for improvement I missed.\n",
        "\n",
        "\n",
        "[Return to Table of Contents](#toc)"
      ]
    }
  ]
}